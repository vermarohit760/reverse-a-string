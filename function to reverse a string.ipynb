{
 "cells": [
  {
   "cell_type": "code",
   "execution_count": 1,
   "id": "2e94cfe9",
   "metadata": {},
   "outputs": [
    {
     "name": "stdout",
     "output_type": "stream",
     "text": [
      "the reverse of the string is:-> dcba4321\n"
     ]
    }
   ],
   "source": [
    "'''Write a Python program to reverse a string.\n",
    "\n",
    "\n",
    "\n",
    "﻿Sample String : \"1234abcd\"\n",
    "\n",
    "Expected Output : \"dcba4321\" '''\n",
    "def reverse(string):\n",
    "    new_string=string[-1::-1]\n",
    "    return new_string\n",
    "sample_string='1234abcd'\n",
    "print('the reverse of the string is:->',reverse(sample_string))"
   ]
  },
  {
   "cell_type": "code",
   "execution_count": 2,
   "id": "d5832e13",
   "metadata": {},
   "outputs": [
    {
     "name": "stdout",
     "output_type": "stream",
     "text": [
      "the reverse of the string is:-> dcba4321\n"
     ]
    }
   ],
   "source": [
    "def reverse(string):\n",
    "    reverse_string=''\n",
    "    for i in string:\n",
    "        reverse_string=i+reverse_string\n",
    "    return reverse_string\n",
    "sample_string='1234abcd'\n",
    "print('the reverse of the string is:->',reverse(sample_string))"
   ]
  },
  {
   "cell_type": "code",
   "execution_count": null,
   "id": "6fd228ef",
   "metadata": {},
   "outputs": [],
   "source": []
  }
 ],
 "metadata": {
  "kernelspec": {
   "display_name": "Python 3 (ipykernel)",
   "language": "python",
   "name": "python3"
  },
  "language_info": {
   "codemirror_mode": {
    "name": "ipython",
    "version": 3
   },
   "file_extension": ".py",
   "mimetype": "text/x-python",
   "name": "python",
   "nbconvert_exporter": "python",
   "pygments_lexer": "ipython3",
   "version": "3.9.6"
  }
 },
 "nbformat": 4,
 "nbformat_minor": 5
}
